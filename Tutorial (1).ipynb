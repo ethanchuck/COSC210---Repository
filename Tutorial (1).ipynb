{
  "nbformat": 4,
  "nbformat_minor": 0,
  "metadata": {
    "colab": {
      "provenance": []
    },
    "kernelspec": {
      "name": "python3",
      "display_name": "Python 3"
    },
    "language_info": {
      "name": "python"
    }
  },
  "cells": [
    {
      "cell_type": "code",
      "execution_count": null,
      "metadata": {
        "id": "DGI02gKOYNz2"
      },
      "outputs": [],
      "source": [
        "import matplotlib.pyplot as plt"
      ]
    },
    {
      "cell_type": "code",
      "source": [
        "import random"
      ],
      "metadata": {
        "id": "7I-FCVhFCkey"
      },
      "execution_count": null,
      "outputs": []
    },
    {
      "cell_type": "code",
      "source": [
        "x1 = []\n",
        "x2 = []\n",
        "\n",
        "for i in range(0,10):\n",
        "  x1.append(random.randint(0, 10))\n",
        "  x2.append(random.randint(0, 10))"
      ],
      "metadata": {
        "id": "ENeKFwDCD2Gx"
      },
      "execution_count": null,
      "outputs": []
    },
    {
      "cell_type": "code",
      "source": [
        "plt.plot(x1[:5], x2[:5], \"ro\")\n",
        "plt.plot(x1[5:], x2[5:], \"bx\")\n",
        "plt.ylabel('Number of Children')\n",
        "plt.xlabel('Number of Rooms in House')"
      ],
      "metadata": {
        "colab": {
          "base_uri": "https://localhost:8080/",
          "height": 467
        },
        "id": "S4A7GeteFLkR",
        "outputId": "801e6778-5a03-4a03-8bf5-de80fc89d547"
      },
      "execution_count": null,
      "outputs": [
        {
          "output_type": "execute_result",
          "data": {
            "text/plain": [
              "Text(0.5, 0, 'Number of Rooms in House')"
            ]
          },
          "metadata": {},
          "execution_count": 5
        },
        {
          "output_type": "display_data",
          "data": {
            "text/plain": [
              "<Figure size 640x480 with 1 Axes>"
            ],
            "image/png": "[encoded data removed]"
          },
          "metadata": {}
        }
      ]
    },
    {
      "cell_type": "code",
      "source": [
        "binary_list = []\n",
        "\n",
        "for i in range(0, 10):\n",
        "  binary_list.append(random.randint(0, 1))\n",
        "\n",
        "\n",
        "print(binary_list)"
      ],
      "metadata": {
        "colab": {
          "base_uri": "https://localhost:8080/"
        },
        "id": "VP8IpVs8Main",
        "outputId": "9facd641-dbd4-44f4-c4d7-42ea857d5c6a"
      },
      "execution_count": null,
      "outputs": [
        {
          "output_type": "stream",
          "name": "stdout",
          "text": [
            "[1, 1, 0, 1, 0, 0, 0, 1, 1, 1]\n"
          ]
        }
      ]
    },
    {
      "cell_type": "code",
      "source": [
        "from tabulate import tabulate\n",
        "\n",
        "data = []\n",
        "\n",
        "for i in range(0, 10):\n",
        "  lst = []\n",
        "  lst.append(x1[i])\n",
        "  lst.append(x2[i])\n",
        "  lst.append(binary_list[i])\n",
        "  data.append(lst)\n",
        "\n",
        "print(tabulate(data, headers=['Rooms','Children', 'Dog?']))\n",
        "\n"
      ],
      "metadata": {
        "colab": {
          "base_uri": "https://localhost:8080/"
        },
        "id": "krIeRVWgl_ag",
        "outputId": "8b0ae6a1-0f45-471c-dd7c-02cd3cc21b16"
      },
      "execution_count": null,
      "outputs": [
        {
          "output_type": "stream",
          "name": "stdout",
          "text": [
            "  Rooms    Children    Dog?\n",
            "-------  ----------  ------\n",
            "      4           7       1\n",
            "      8           2       1\n",
            "      9           7       0\n",
            "      8           3       1\n",
            "      7           3       0\n",
            "      6           4       0\n",
            "      8           6       0\n",
            "      3           0       1\n",
            "      0           8       1\n",
            "      1           0       1\n"
          ]
        }
      ]
    }
  ]
}